{
 "cells": [
  {
   "cell_type": "code",
   "execution_count": 3,
   "metadata": {},
   "outputs": [],
   "source": [
    "import torch\n",
    "from torch import nn\n",
    "from torch.utils.data import DataLoader, TensorDataset\n",
    "from tqdm import tqdm\n",
    "import matplotlib.pyplot as plt"
   ]
  },
  {
   "cell_type": "code",
   "execution_count": 59,
   "metadata": {},
   "outputs": [],
   "source": [
    "repr_dic = \"/shared/results/common/kargin/unreal_engine/features/initial_test\"\n",
    "MODEL = \"spa\"\n",
    "result = torch.load(f\"{repr_dic}/repr_{MODEL}.pt\")"
   ]
  },
  {
   "cell_type": "code",
   "execution_count": 60,
   "metadata": {},
   "outputs": [],
   "source": [
    "# --- Manual filtering ---\n",
    "mask = [\n",
    "    env == 'City' \n",
    "    and obj == 'SM_vehCar_vehicle07_White' \n",
    "    and ori == 'Line'\n",
    "    for env, obj, ori in zip(result['environment'], result['object_class'], result['orientation'])\n",
    "]"
   ]
  },
  {
   "cell_type": "code",
   "execution_count": 61,
   "metadata": {},
   "outputs": [],
   "source": [
    "FEATURES = \"CLS\"\n",
    "\n",
    "features = torch.stack([f for f, m in zip(result['features'], mask) if m]).to(torch.float32)\n",
    "positions = torch.stack([a for a, m in zip(result['number'], mask) if m]).to(torch.float32) / 360.0\n",
    "\n",
    "if FEATURES == \"CLS\":\n",
    "    features = features[:, 0, :]\n",
    "elif FEATURES == \"MEAN\":\n",
    "    features = features[:, -196:, :].mean(1)\n",
    "elif FEATURES == \"CENTER\":\n",
    "    features = features[:, 105, :]\n",
    "else:\n",
    "    raise Exception(\"bruh\")\n"
   ]
  },
  {
   "cell_type": "code",
   "execution_count": null,
   "metadata": {},
   "outputs": [],
   "source": [
    "# sort the features by the angles\n",
    "features = features[torch.argsort(positions)]\n",
    "lines = positions[torch.argsort(positions)]\n",
    "\n",
    "\n",
    "# --- Split ---\n",
    "train_mask = lines < 0.9 # Time-based split\n",
    "# train_mask = torch.rand(len(lines)) < 0.7 # Random split\n",
    "val_mask = ~train_mask\n",
    "train_x, train_y = features[train_mask], lines[train_mask]\n",
    "val_x, val_y = features[val_mask], lines[val_mask]\n",
    "\n",
    "# --- DataLoader ---\n",
    "train_loader = DataLoader(TensorDataset(train_x, train_y), batch_size=64, shuffle=True)\n",
    "\n",
    "# --- Model ---\n",
    "model = nn.Sequential(\n",
    "    nn.Linear(train_x.shape[1], 256),\n",
    "    nn.ReLU(),\n",
    "    nn.Dropout(p=0.4),\n",
    "    nn.Linear(256, 1)\n",
    ")\n",
    "opt = torch.optim.Adam(model.parameters(), lr=1e-3, weight_decay=1e-6)\n",
    "loss_fn = nn.MSELoss()\n",
    "train_loss_list = []\n",
    "val_loss_list = []\n",
    "# --- Training ---\n",
    "for epoch in range(300):\n",
    "    pbar = tqdm(train_loader)\n",
    "    for x, y in pbar:\n",
    "        pred = model(x).squeeze(1)# .sigmoid()\n",
    "        loss = loss_fn(pred, y)\n",
    "        opt.zero_grad()\n",
    "        loss.backward()\n",
    "        opt.step()\n",
    "        pbar.set_description(f\"Epoch {epoch+1} | Loss: {loss.item():.4f}\")\n",
    "    if epoch % 10 == 0:\n",
    "        model.eval()\n",
    "        with torch.no_grad():\n",
    "            preds = model(val_x).squeeze(1)# .sigmoid()\n",
    "            val_loss = loss_fn(preds, val_y).item()\n",
    "            val_loss_list.append(val_loss)\n",
    "            train_loss_list.append(loss.item())\n",
    "        model.train()\n",
    "\n",
    "\n",
    "# --- Validation ---\n",
    "model.eval()\n",
    "with torch.no_grad():\n",
    "    preds_val = model(val_x).squeeze(1)# .sigmoid()\n",
    "    val_loss = loss_fn(preds_val, val_y).item()\n",
    "    preds_train = model(train_x).squeeze(1)# .sigmoid()\n",
    "    train_loss = loss_fn(preds_train, train_y).item()\n",
    "    print(f\"Train Loss: {train_loss:.4f} | Val Loss: {val_loss:.4f}\")"
   ]
  },
  {
   "cell_type": "code",
   "execution_count": null,
   "metadata": {},
   "outputs": [],
   "source": [
    "# plot loss\n",
    "plt.plot(train_loss_list, label='Training Loss')\n",
    "plt.plot(val_loss_list, label='Validation Loss')\n",
    "plt.legend()\n",
    "plt.show()"
   ]
  },
  {
   "cell_type": "code",
   "execution_count": null,
   "metadata": {},
   "outputs": [],
   "source": [
    "# Detach tensors and convert to numpy for plotting\n",
    "true_xy = train_y.numpy()\n",
    "pred_xy = preds_train.numpy()\n",
    "\n",
    "# Plot ground truth\n",
    "plt.figure(figsize=(6, 6))\n",
    "plt.scatter(range(len(true_xy)), true_xy, c='blue', label='Ground Truth', alpha=0.6)\n",
    "\n",
    "# Plot predictions\n",
    "plt.scatter(range(len(pred_xy)), pred_xy, c='red', label='Predictions', alpha=0.6)\n",
    "\n",
    "# plt.axis('equal')\n",
    "plt.ylim(-0.1, 1)\n",
    "plt.title(\"Predicted vs. Ground Truth Positions on Line\")\n",
    "plt.xlabel(\"X\")\n",
    "plt.ylabel(\"Y\")\n",
    "plt.legend()\n",
    "plt.grid(True)\n",
    "plt.show()"
   ]
  },
  {
   "cell_type": "code",
   "execution_count": null,
   "metadata": {},
   "outputs": [],
   "source": [
    "# Detach tensors and convert to numpy for plotting\n",
    "true_xy = val_y.numpy()\n",
    "pred_xy = preds_val.numpy()\n",
    "\n",
    "# Plot ground truth\n",
    "plt.figure(figsize=(6, 6))\n",
    "plt.scatter(range(len(true_xy)), true_xy, c='blue', label='Ground Truth', alpha=0.6)\n",
    "\n",
    "# Plot predictions\n",
    "plt.scatter(range(len(pred_xy)), pred_xy, c='red', label='Predictions', alpha=0.6)\n",
    "\n",
    "# Draw connection lines\n",
    "for i, (gt, pred) in enumerate(zip(true_xy, pred_xy)):\n",
    "    plt.plot([i, i], [gt, pred], c='gray', alpha=0.7, linewidth=0.8)\n",
    "\n",
    "# plt.axis('equal')\n",
    "plt.ylim(0.5, 1.2)\n",
    "plt.title(\"Predicted vs. Ground Truth Positions on Line\")\n",
    "plt.xlabel(\"X\")\n",
    "plt.ylabel(\"Y\")\n",
    "plt.legend()\n",
    "plt.grid(True)\n",
    "plt.show()"
   ]
  }
 ],
 "metadata": {
  "kernelspec": {
   "display_name": "lynx-reid",
   "language": "python",
   "name": "python3"
  },
  "language_info": {
   "codemirror_mode": {
    "name": "ipython",
    "version": 3
   },
   "file_extension": ".py",
   "mimetype": "text/x-python",
   "name": "python",
   "nbconvert_exporter": "python",
   "pygments_lexer": "ipython3",
   "version": "3.9.21"
  }
 },
 "nbformat": 4,
 "nbformat_minor": 2
}
