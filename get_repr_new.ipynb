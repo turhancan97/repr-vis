{
 "cells": [
  {
   "cell_type": "code",
   "execution_count": null,
   "id": "f692cffd-3fbc-4d92-be2b-c13572851e76",
   "metadata": {},
   "outputs": [],
   "source": [
    "import timm\n",
    "import torch\n",
    "from torch.utils.data import Dataset\n",
    "import torchvision\n",
    "from tqdm import tqdm\n",
    "import torchvision.transforms as T\n",
    "import torchvision.transforms.functional as TF\n",
    "import lovely_tensors\n",
    "lovely_tensors.monkey_patch()\n",
    "\n",
    "import re\n",
    "from torchvision.datasets import ImageFolder\n",
    "from pathlib import Path\n",
    "\n",
    "import re\n",
    "from pathlib import Path\n",
    "from torch.utils.data import Dataset\n",
    "from PIL import Image\n",
    "\n",
    "torch.set_grad_enabled(False)\n",
    "device = torch.device(\"cuda:0\") if torch.cuda.is_available() else torch.device(\"cpu\")"
   ]
  },
  {
   "cell_type": "code",
   "execution_count": 14,
   "id": "ddaaa4b7-99ba-4ae0-b5e7-b94dd926bf95",
   "metadata": {},
   "outputs": [],
   "source": [
    "model_name = \"dummy\"\n",
    "\n",
    "class DummyModel:\n",
    "    def forward_features(self, x):\n",
    "        return torch.rand(x.size(0), 197, 768)"
   ]
  },
  {
   "cell_type": "code",
   "execution_count": 18,
   "id": "51fdb09b-6e0a-49d7-aebf-fb41461a0508",
   "metadata": {},
   "outputs": [
    {
     "name": "stdout",
     "output_type": "stream",
     "text": [
      "/root/croco\n",
      "Warning, cannot find cuda-compiled version of RoPE2D, using a slow pytorch version instead\n"
     ]
    },
    {
     "name": "stderr",
     "output_type": "stream",
     "text": [
      "/tmp/ipykernel_2527/962728620.py:5: FutureWarning: You are using `torch.load` with `weights_only=False` (the current default value), which uses the default pickle module implicitly. It is possible to construct malicious pickle data which will execute arbitrary code during unpickling (See https://github.com/pytorch/pytorch/blob/main/SECURITY.md#untrusted-models for more details). In a future release, the default value for `weights_only` will be flipped to `True`. This limits the functions that could be executed during unpickling. Arbitrary objects will no longer be allowed to be loaded via this mode unless they are explicitly allowlisted by the user via `torch.serialization.add_safe_globals`. We recommend you start setting `weights_only=True` for any use case where you don't have full control of the loaded file. Please open an issue on GitHub for any issues related to this experimental feature.\n",
      "  ckpt = torch.load('CroCo_V2_ViTBase_BaseDecoder.pth', 'cpu')\n"
     ]
    },
    {
     "name": "stdout",
     "output_type": "stream",
     "text": [
      "<All keys matched successfully>\n"
     ]
    }
   ],
   "source": [
    "model_name = \"crocov2\"\n",
    "\n",
    "%cd /root/croco\n",
    "from models.croco import CroCoNet\n",
    "ckpt = torch.load('CroCo_V2_ViTBase_BaseDecoder.pth', 'cpu')\n",
    "model = CroCoNet( **ckpt.get('croco_kwargs',{}))\n",
    "msg = model.load_state_dict(ckpt['model'], strict=True)\n",
    "use_gpu = torch.cuda.is_available() and torch.cuda.device_count()>0\n",
    "device = torch.device('cuda:0' if use_gpu else 'cpu')\n",
    "model = model.eval()\n",
    "model = model.to(device=device)\n",
    "print(msg)"
   ]
  },
  {
   "cell_type": "code",
   "execution_count": 11,
   "id": "a962bb04-b526-44de-be61-e7953ad5bf5a",
   "metadata": {},
   "outputs": [
    {
     "name": "stderr",
     "output_type": "stream",
     "text": [
      "/tmp/ipykernel_4795/1235756427.py:3: FutureWarning: You are using `torch.load` with `weights_only=False` (the current default value), which uses the default pickle module implicitly. It is possible to construct malicious pickle data which will execute arbitrary code during unpickling (See https://github.com/pytorch/pytorch/blob/main/SECURITY.md#untrusted-models for more details). In a future release, the default value for `weights_only` will be flipped to `True`. This limits the functions that could be executed during unpickling. Arbitrary objects will no longer be allowed to be loaded via this mode unless they are explicitly allowlisted by the user via `torch.serialization.add_safe_globals`. We recommend you start setting `weights_only=True` for any use case where you don't have full control of the loaded file. Please open an issue on GitHub for any issues related to this experimental feature.\n",
      "  state_dict = torch.load(\"spa-b.ckpt\")\n"
     ]
    },
    {
     "data": {
      "text/plain": [
       "_IncompatibleKeys(missing_keys=[], unexpected_keys=['mask_token', 'decoder_embed.weight', 'decoder_embed.bias', 'readout_project.0.weight', 'readout_project.0.bias', 'upsample.0.conv.weight', 'upsample.1.conv.weight'])"
      ]
     },
     "execution_count": 11,
     "metadata": {},
     "output_type": "execute_result"
    }
   ],
   "source": [
    "model_name=\"spa\"\n",
    "\n",
    "state_dict = torch.load(\"spa-b.ckpt\")\n",
    "state_dict = state_dict[\"state_dict\"]\n",
    "\n",
    "for k in list(state_dict.keys()):\n",
    "    if not k.startswith(\"model.img_backbone\"):\n",
    "        del state_dict[k]\n",
    "    else:\n",
    "        new_key = k.replace(\"model.img_backbone.\", \"\")\n",
    "        state_dict[new_key] = state_dict.pop(k)\n",
    "\n",
    "model = timm.create_model('vit_base_patch16_224', pretrained=False).cuda()\n",
    "model.head = torch.nn.Identity()\n",
    "model.fc_norm = torch.nn.Identity()\n",
    "\n",
    "model.load_state_dict(state_dict, strict=False)"
   ]
  },
  {
   "cell_type": "code",
   "execution_count": 43,
   "id": "da0cb1ce-01ac-435c-a14a-7847665544cf",
   "metadata": {},
   "outputs": [],
   "source": [
    "model_name=\"dino\"\n",
    "\n",
    "model = timm.create_model(f'vit_base_patch16_224.{model_name}', pretrained=True).cuda()\n",
    "model.head = torch.nn.Identity()\n",
    "model.fc_norm = torch.nn.Identity()"
   ]
  },
  {
   "cell_type": "code",
   "execution_count": 48,
   "id": "93912d8e-25b8-4345-ad84-d8e619c332ac",
   "metadata": {},
   "outputs": [],
   "source": [
    "class HierarchicalDataset(Dataset):\n",
    "    def __init__(self, root, transform=None):\n",
    "        self.root = Path(root)\n",
    "        self.transform = transform\n",
    "        self.samples = list(self.root.rglob(\"*.jpg\"))  \n",
    "        # self.samples = [p for p in self.samples if \".ipynb_checkpoints\" not in str(p)]\n",
    "\n",
    "    def __len__(self):\n",
    "        return len(self.samples)\n",
    "\n",
    "    def __getitem__(self, index):\n",
    "        path = self.samples[index]\n",
    "        image = Image.open(path).convert(\"RGB\")\n",
    "\n",
    "        if self.transform:\n",
    "            image = self.transform(image)\n",
    "\n",
    "        try:\n",
    "            object_class = path.parent.name\n",
    "            environment = path.parent.parent.name\n",
    "            orientation = path.parent.parent.parent.name.replace(\"Frames_\", \"\")\n",
    "        except Exception as e:\n",
    "            raise RuntimeError(f\"Unexpected folder structure for {path}\") from e\n",
    "\n",
    "        match = re.search(r\"(\\d+)\\.jpg$\", path.name)\n",
    "        file_number = int(match.group(1)) if match else -1\n",
    "\n",
    "        metadata = {\n",
    "            # \"path\": str(path),\n",
    "            \"orientation\": orientation,\n",
    "            \"environment\": environment,\n",
    "            \"object_class\": object_class,\n",
    "            \"number\": file_number\n",
    "        }\n",
    "\n",
    "        return image, metadata\n",
    "\n",
    "dataset = HierarchicalDataset(\n",
    "    f\"/root/repr-vis/Dataset/\",\n",
    "    transform=T.Compose([\n",
    "        T.Resize(224),\n",
    "        T.CenterCrop(224),\n",
    "        T.ToTensor(),\n",
    "        T.Normalize(mean=[0.485, 0.456, 0.406], std=[0.229, 0.224, 0.225]) \n",
    "    ])\n",
    ")\n",
    "    \n",
    "dataloader = torch.utils.data.DataLoader(dataset, batch_size=32, shuffle=False)"
   ]
  },
  {
   "cell_type": "code",
   "execution_count": 49,
   "id": "7b52f2f4-dba2-4bc5-a20c-554045c789cc",
   "metadata": {
    "scrolled": true
   },
   "outputs": [
    {
     "name": "stderr",
     "output_type": "stream",
     "text": [
      "100%|██████████| 39/39 [05:32<00:00,  8.54s/it]\n"
     ]
    }
   ],
   "source": [
    "result = {\n",
    "    \"features\": [],\n",
    "    \"orientation\": [],\n",
    "    \"environment\": [],\n",
    "    \"object_class\": [],\n",
    "    \"number\": [],\n",
    "    \"path\": [],\n",
    "}\n",
    "\n",
    "model.eval()\n",
    "for images, metadata in tqdm(dataloader):\n",
    "    images = images.to(device)\n",
    "    with torch.no_grad():\n",
    "        feats = model.forward_features(images)\n",
    "\n",
    "    result[\"features\"].extend(feats.cpu())\n",
    "    for key in metadata:\n",
    "        result[key].extend(metadata[key])\n",
    "\n",
    "result[\"features\"] = torch.stack(result[\"features\"]).half()\n",
    "\n",
    "torch.save(result, f\"repr_{model_name}.pt\")"
   ]
  },
  {
   "cell_type": "code",
   "execution_count": null,
   "id": "eb73a490-05a1-45b6-b3a3-118b0023d1f9",
   "metadata": {},
   "outputs": [],
   "source": []
  }
 ],
 "metadata": {
  "kernelspec": {
   "display_name": "Python 3 (ipykernel)",
   "language": "python",
   "name": "python3"
  },
  "language_info": {
   "codemirror_mode": {
    "name": "ipython",
    "version": 3
   },
   "file_extension": ".py",
   "mimetype": "text/x-python",
   "name": "python",
   "nbconvert_exporter": "python",
   "pygments_lexer": "ipython3",
   "version": "3.11.9"
  }
 },
 "nbformat": 4,
 "nbformat_minor": 5
}
