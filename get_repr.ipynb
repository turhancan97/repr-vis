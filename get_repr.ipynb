{
 "cells": [
  {
   "cell_type": "code",
   "execution_count": 24,
   "id": "f692cffd-3fbc-4d92-be2b-c13572851e76",
   "metadata": {},
   "outputs": [],
   "source": [
    "import timm\n",
    "import torch\n",
    "from torch.utils.data import Dataset\n",
    "import torchvision\n",
    "from tqdm import tqdm\n",
    "import torchvision.transforms as T\n",
    "import torchvision.transforms.functional as TF\n",
    "\n",
    "torch.set_grad_enabled(False)\n",
    "device = torch.device(\"cuda:0\")\n",
    "every_n_frames = 1"
   ]
  },
  {
   "cell_type": "code",
   "execution_count": 14,
   "id": "ddaaa4b7-99ba-4ae0-b5e7-b94dd926bf95",
   "metadata": {},
   "outputs": [],
   "source": [
    "model_name = \"dummy\"\n",
    "\n",
    "class DummyModel:\n",
    "    def forward_features(self, x):\n",
    "        return torch.rand(x.size(0), 197, 768)"
   ]
  },
  {
   "cell_type": "code",
   "execution_count": 18,
   "id": "51fdb09b-6e0a-49d7-aebf-fb41461a0508",
   "metadata": {},
   "outputs": [
    {
     "name": "stdout",
     "output_type": "stream",
     "text": [
      "/root/croco\n",
      "Warning, cannot find cuda-compiled version of RoPE2D, using a slow pytorch version instead\n"
     ]
    },
    {
     "name": "stderr",
     "output_type": "stream",
     "text": [
      "/tmp/ipykernel_2527/962728620.py:5: FutureWarning: You are using `torch.load` with `weights_only=False` (the current default value), which uses the default pickle module implicitly. It is possible to construct malicious pickle data which will execute arbitrary code during unpickling (See https://github.com/pytorch/pytorch/blob/main/SECURITY.md#untrusted-models for more details). In a future release, the default value for `weights_only` will be flipped to `True`. This limits the functions that could be executed during unpickling. Arbitrary objects will no longer be allowed to be loaded via this mode unless they are explicitly allowlisted by the user via `torch.serialization.add_safe_globals`. We recommend you start setting `weights_only=True` for any use case where you don't have full control of the loaded file. Please open an issue on GitHub for any issues related to this experimental feature.\n",
      "  ckpt = torch.load('CroCo_V2_ViTBase_BaseDecoder.pth', 'cpu')\n"
     ]
    },
    {
     "name": "stdout",
     "output_type": "stream",
     "text": [
      "<All keys matched successfully>\n"
     ]
    }
   ],
   "source": [
    "model_name = \"crocov2\"\n",
    "\n",
    "%cd /root/croco\n",
    "from models.croco import CroCoNet\n",
    "ckpt = torch.load('CroCo_V2_ViTBase_BaseDecoder.pth', 'cpu')\n",
    "model = CroCoNet( **ckpt.get('croco_kwargs',{}))\n",
    "msg = model.load_state_dict(ckpt['model'], strict=True)\n",
    "use_gpu = torch.cuda.is_available() and torch.cuda.device_count()>0\n",
    "device = torch.device('cuda:0' if use_gpu else 'cpu')\n",
    "model = model.eval()\n",
    "model = model.to(device=device)\n",
    "print(msg)"
   ]
  },
  {
   "cell_type": "code",
   "execution_count": 15,
   "id": "a962bb04-b526-44de-be61-e7953ad5bf5a",
   "metadata": {},
   "outputs": [
    {
     "name": "stderr",
     "output_type": "stream",
     "text": [
      "/tmp/ipykernel_2527/1235756427.py:3: FutureWarning: You are using `torch.load` with `weights_only=False` (the current default value), which uses the default pickle module implicitly. It is possible to construct malicious pickle data which will execute arbitrary code during unpickling (See https://github.com/pytorch/pytorch/blob/main/SECURITY.md#untrusted-models for more details). In a future release, the default value for `weights_only` will be flipped to `True`. This limits the functions that could be executed during unpickling. Arbitrary objects will no longer be allowed to be loaded via this mode unless they are explicitly allowlisted by the user via `torch.serialization.add_safe_globals`. We recommend you start setting `weights_only=True` for any use case where you don't have full control of the loaded file. Please open an issue on GitHub for any issues related to this experimental feature.\n",
      "  state_dict = torch.load(\"spa-b.ckpt\")\n"
     ]
    },
    {
     "data": {
      "text/plain": [
       "_IncompatibleKeys(missing_keys=[], unexpected_keys=['mask_token', 'decoder_embed.weight', 'decoder_embed.bias', 'readout_project.0.weight', 'readout_project.0.bias', 'upsample.0.conv.weight', 'upsample.1.conv.weight'])"
      ]
     },
     "execution_count": 15,
     "metadata": {},
     "output_type": "execute_result"
    }
   ],
   "source": [
    "model_name=\"spa\"\n",
    "\n",
    "state_dict = torch.load(\"spa-b.ckpt\")\n",
    "state_dict = state_dict[\"state_dict\"]\n",
    "\n",
    "for k in list(state_dict.keys()):\n",
    "    if not k.startswith(\"model.img_backbone\"):\n",
    "        del state_dict[k]\n",
    "    else:\n",
    "        new_key = k.replace(\"model.img_backbone.\", \"\")\n",
    "        state_dict[new_key] = state_dict.pop(k)\n",
    "\n",
    "model = timm.create_model('vit_base_patch16_224', pretrained=False).cuda()\n",
    "model.head = torch.nn.Identity()\n",
    "model.fc_norm = torch.nn.Identity()\n",
    "\n",
    "model.load_state_dict(state_dict, strict=False)"
   ]
  },
  {
   "cell_type": "code",
   "execution_count": 28,
   "id": "da0cb1ce-01ac-435c-a14a-7847665544cf",
   "metadata": {},
   "outputs": [],
   "source": [
    "model_name=\"dino\"\n",
    "\n",
    "model = timm.create_model(f'vit_base_patch16_224.{model_name}', pretrained=True).cuda()\n",
    "model.head = torch.nn.Identity()\n",
    "model.fc_norm = torch.nn.Identity()"
   ]
  },
  {
   "cell_type": "code",
   "execution_count": 29,
   "id": "93912d8e-25b8-4345-ad84-d8e619c332ac",
   "metadata": {},
   "outputs": [],
   "source": [
    "dataset = torchvision.datasets.ImageFolder(\n",
    "    f\"frames_{every_n_frames}\", \n",
    "    transform=T.Compose([\n",
    "        T.Resize(224),\n",
    "        T.CenterCrop(224),\n",
    "        T.ToTensor(),\n",
    "        T.Normalize(mean=[0.485, 0.456, 0.406], std=[0.229, 0.224, 0.225]) \n",
    "    ])\n",
    ")\n",
    "    \n",
    "dataloader = torch.utils.data.DataLoader(dataset, batch_size=32, shuffle=False)"
   ]
  },
  {
   "cell_type": "code",
   "execution_count": 30,
   "id": "7b52f2f4-dba2-4bc5-a20c-554045c789cc",
   "metadata": {},
   "outputs": [
    {
     "name": "stdout",
     "output_type": "stream",
     "text": [
      "/root/new\n"
     ]
    },
    {
     "name": "stderr",
     "output_type": "stream",
     "text": [
      "100%|██████████| 299/299 [10:57<00:00,  2.20s/it]\n"
     ]
    }
   ],
   "source": [
    "\n",
    "all_features = {cls:[] for cls in dataset.classes}\n",
    "\n",
    "for img, label in tqdm(dataloader):\n",
    "    features = model.forward_features(img.to(device))\n",
    "\n",
    "    for f, l in zip(features, label):\n",
    "        name = dataset.classes[l]\n",
    "        all_features[name].append(f)\n",
    "\n",
    "for cls, features in all_features.items():\n",
    "    all_features[cls] = torch.stack(features).cpu()\n",
    "\n",
    "torch.save(all_features, f\"repr_{every_n_frames}/repr_{model_name}.pt\")"
   ]
  },
  {
   "cell_type": "code",
   "execution_count": null,
   "id": "6688c982-b32b-4d5a-8619-2d257f41f507",
   "metadata": {},
   "outputs": [],
   "source": []
  }
 ],
 "metadata": {
  "kernelspec": {
   "display_name": "Python 3 (ipykernel)",
   "language": "python",
   "name": "python3"
  },
  "language_info": {
   "codemirror_mode": {
    "name": "ipython",
    "version": 3
   },
   "file_extension": ".py",
   "mimetype": "text/x-python",
   "name": "python",
   "nbconvert_exporter": "python",
   "pygments_lexer": "ipython3",
   "version": "3.11.9"
  }
 },
 "nbformat": 4,
 "nbformat_minor": 5
}
