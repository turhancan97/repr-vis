{
 "cells": [
  {
   "cell_type": "code",
   "execution_count": 1,
   "id": "c3f38ea3-8394-4122-b957-fb75c9afd735",
   "metadata": {},
   "outputs": [],
   "source": [
    "import cv2\n",
    "import os\n",
    "from pathlib import Path"
   ]
  },
  {
   "cell_type": "code",
   "execution_count": 2,
   "id": "64ab0980-f4e4-4dbb-9486-204641f6f86c",
   "metadata": {},
   "outputs": [
    {
     "name": "stdout",
     "output_type": "stream",
     "text": [
      "Extracted 42 frames from 'obj_forest_human.mp4' to 'frames_7/obj_forest_human'\n",
      "Extracted 67 frames from 'obj_forest_car.mp4' to 'frames_7/obj_forest_car'\n",
      "Extracted 38 frames from 'obj_forest_bike.mp4' to 'frames_7/obj_forest_bike'\n",
      "Extracted 59 frames from 'obj_city_car.mp4' to 'frames_7/obj_city_car'\n",
      "Extracted 33 frames from 'obj_city_bike.mp4' to 'frames_7/obj_city_bike'\n",
      "Extracted 17 frames from 'ego_forest_human.mp4' to 'frames_7/ego_forest_human'\n",
      "Extracted 36 frames from 'ego_forest_car.mp4' to 'frames_7/ego_forest_car'\n",
      "Extracted 21 frames from 'ego_forest_bike.mp4' to 'frames_7/ego_forest_bike'\n",
      "Extracted 41 frames from 'obj_city_human.mp4' to 'frames_7/obj_city_human'\n",
      "Extracted 42 frames from 'ego_city.mp4' to 'frames_7/ego_city'\n",
      "Extracted 17 frames from 'ego_city_bike.mp4' to 'frames_7/ego_city_bike'\n",
      "Extracted 19 frames from 'ego_city_car.mp4' to 'frames_7/ego_city_car'\n",
      "Extracted 10 frames from 'ego_city_human.mp4' to 'frames_7/ego_city_human'\n",
      "Extracted 69 frames from 'zoom_obj_city_occulded.mp4' to 'frames_7/zoom_obj_city_occulded'\n",
      "Extracted 69 frames from 'zoom_obj_city_human.mp4' to 'frames_7/zoom_obj_city_human'\n",
      "Extracted 69 frames from 'zoom_obj_city_car.mp4' to 'frames_7/zoom_obj_city_car'\n",
      "Extracted 69 frames from 'zoom_obj_city_bike.mp4' to 'frames_7/zoom_obj_city_bike'\n",
      "Extracted 70 frames from 'auto_obj_city_bike.mp4' to 'frames_7/auto_obj_city_bike'\n",
      "Extracted 70 frames from 'auto_obj_city_occluded.mp4' to 'frames_7/auto_obj_city_occluded'\n",
      "Extracted 70 frames from 'auto_obj_city_car.mp4' to 'frames_7/auto_obj_city_car'\n",
      "Extracted 71 frames from 'auto_obj_forest_car.mp4' to 'frames_7/auto_obj_forest_car'\n",
      "Extracted 71 frames from 'auto_obj_forest_occluded.mp4' to 'frames_7/auto_obj_forest_occluded'\n",
      "Extracted 71 frames from 'auto_obj_forest_bike.mp4' to 'frames_7/auto_obj_forest_bike'\n",
      "Extracted 71 frames from 'auto_obj_forest_human.mp4' to 'frames_7/auto_obj_forest_human'\n"
     ]
    }
   ],
   "source": [
    "every_n_frames = 7\n",
    "\n",
    "def split_all_videos(input_dir, output_root):\n",
    "    input_dir = Path(input_dir)\n",
    "    output_root = Path(output_root)\n",
    "    output_root.mkdir(parents=True, exist_ok=True)\n",
    "\n",
    "    for video_file in input_dir.glob(\"*.mp4\"):\n",
    "        video_name = video_file.stem  # filename without extension\n",
    "        output_dir = output_root / video_name\n",
    "        output_dir.mkdir(parents=True, exist_ok=True)\n",
    "\n",
    "        cap = cv2.VideoCapture(str(video_file))\n",
    "        if not cap.isOpened():\n",
    "            print(f\"Warning: Cannot open video {video_file}\")\n",
    "            continue\n",
    "\n",
    "        frame_num = 0\n",
    "        while True:\n",
    "            ret, frame = cap.read()\n",
    "            if not ret:\n",
    "                break\n",
    "            if frame_num % every_n_frames == 0:\n",
    "                filename = output_dir / f\"{frame_num:05d}.jpg\"\n",
    "                cv2.imwrite(str(filename), frame)\n",
    "            frame_num += 1\n",
    "\n",
    "        cap.release()\n",
    "        print(f\"Extracted {(frame_num - 1)//every_n_frames} frames from '{video_file.name}' to '{output_dir}'\")\n",
    "\n",
    "split_all_videos(\"vids\", f\"frames_{every_n_frames}\")"
   ]
  },
  {
   "cell_type": "code",
   "execution_count": null,
   "id": "246c6574-1564-4c46-9b47-d30113bff554",
   "metadata": {},
   "outputs": [],
   "source": []
  }
 ],
 "metadata": {
  "kernelspec": {
   "display_name": "Python 3 (ipykernel)",
   "language": "python",
   "name": "python3"
  },
  "language_info": {
   "codemirror_mode": {
    "name": "ipython",
    "version": 3
   },
   "file_extension": ".py",
   "mimetype": "text/x-python",
   "name": "python",
   "nbconvert_exporter": "python",
   "pygments_lexer": "ipython3",
   "version": "3.11.9"
  }
 },
 "nbformat": 4,
 "nbformat_minor": 5
}
